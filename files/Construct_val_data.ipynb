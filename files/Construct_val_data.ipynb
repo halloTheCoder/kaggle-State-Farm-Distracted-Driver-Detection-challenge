{
 "cells": [
  {
   "cell_type": "code",
   "execution_count": 19,
   "metadata": {},
   "outputs": [],
   "source": [
    "import numpy as np\n",
    "import h5py\n",
    "import json\n",
    "import matplotlib.pyplot as plt\n",
    "import seaborn as sns\n",
    "import os\n",
    "import random\n",
    "import shutil"
   ]
  },
  {
   "cell_type": "code",
   "execution_count": 2,
   "metadata": {},
   "outputs": [],
   "source": [
    "import keras \n",
    "from keras.models import Sequential,Model,load_model\n",
    "from keras.layers import Dense,Activation,Dropout,Flatten\n",
    "from keras.layers import Conv2D,Conv2DTranspose\n",
    "from keras.layers.normalization import BatchNormalization\n",
    "from keras.callbacks import History,ModelCheckpoint,TensorBoard\n",
    "from keras import optimizers,losses\n",
    "from keras.applications.vgg16 import VGG16\n",
    "from keras.preprocessing.image import ImageDataGenerator,img_to_array,array_to_img,load_img"
   ]
  },
  {
   "cell_type": "code",
   "execution_count": 4,
   "metadata": {},
   "outputs": [
    {
     "name": "stdout",
     "output_type": "stream",
     "text": [
      "2325\n",
      "2002\n",
      "1911\n",
      "2312\n",
      "2129\n",
      "2317\n",
      "2489\n",
      "2346\n",
      "2267\n",
      "2326\n"
     ]
    },
    {
     "data": {
      "text/plain": [
       "[None, None, None, None, None, None, None, None, None, None]"
      ]
     },
     "execution_count": 4,
     "metadata": {},
     "output_type": "execute_result"
    }
   ],
   "source": [
    "location = './imgs/train/'\n",
    "[print(len(os.listdir(os.path.join(location,i)))) for i in os.listdir(location)]"
   ]
  },
  {
   "cell_type": "code",
   "execution_count": 5,
   "metadata": {},
   "outputs": [],
   "source": [
    "os.mkdir('./imgs/val')"
   ]
  },
  {
   "cell_type": "code",
   "execution_count": 22,
   "metadata": {},
   "outputs": [],
   "source": [
    "for folder in os.listdir(location):\n",
    "#     print(folder)\n",
    "    src_dir = os.path.join(location,folder)\n",
    "    dst = './imgs/val/'+folder\n",
    "    if not os.path.exists(dst):\n",
    "        os.mkdir(dst)\n",
    "    len_folder = len(os.listdir(src_dir))\n",
    "#     print(len_folder)\n",
    "    split = int(len_folder*1/10)\n",
    "#     print(split)\n",
    "    val_data = random.sample(os.listdir(src_dir),split)\n",
    "    \n",
    "    for file in val_data:\n",
    "#         print(os.path.join(src_dir,file))\n",
    "#         print(dst)\n",
    "        shutil.move(src=os.path.join(src_dir,file),dst=dst)"
   ]
  }
 ],
 "metadata": {
  "kernelspec": {
   "display_name": "Python 3",
   "language": "python",
   "name": "python3"
  },
  "language_info": {
   "codemirror_mode": {
    "name": "ipython",
    "version": 3
   },
   "file_extension": ".py",
   "mimetype": "text/x-python",
   "name": "python",
   "nbconvert_exporter": "python",
   "pygments_lexer": "ipython3",
   "version": "3.6.2"
  }
 },
 "nbformat": 4,
 "nbformat_minor": 2
}
