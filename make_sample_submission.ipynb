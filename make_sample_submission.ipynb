{
 "cells": [
  {
   "cell_type": "code",
   "execution_count": 4,
   "metadata": {},
   "outputs": [],
   "source": [
    "import numpy as np\n",
    "import json\n",
    "import pandas as pd\n",
    "import os"
   ]
  },
  {
   "cell_type": "code",
   "execution_count": 2,
   "metadata": {},
   "outputs": [
    {
     "data": {
      "text/plain": [
       "array([[  3.69872130e-03,   1.12161366e-03,   7.13233778e-04, ...,\n",
       "          2.29262840e-03,   1.03107747e-02,   1.28202895e-02],\n",
       "       [  2.61404528e-03,   6.69481559e-03,   1.03341257e-02, ...,\n",
       "          9.63723138e-02,   3.18764225e-02,   3.58861499e-02],\n",
       "       [  4.37084973e-01,   1.82139613e-02,   2.77541415e-03, ...,\n",
       "          1.06781917e-02,   1.89723242e-02,   4.31523353e-01],\n",
       "       ..., \n",
       "       [  1.51105539e-03,   1.14743489e-04,   4.71932534e-03, ...,\n",
       "          1.86939836e-02,   2.58160263e-01,   3.13630374e-03],\n",
       "       [  5.18868270e-04,   2.02329084e-02,   5.20199984e-02, ...,\n",
       "          3.82525288e-02,   7.21201837e-01,   3.15855481e-02],\n",
       "       [  1.52337346e-02,   1.20091252e-03,   2.83215567e-03, ...,\n",
       "          3.74614587e-03,   6.22319477e-03,   5.71431220e-03]], dtype=float32)"
      ]
     },
     "execution_count": 2,
     "metadata": {},
     "output_type": "execute_result"
    }
   ],
   "source": [
    "pred = np.load('./files/predictions.npy')\n",
    "pred"
   ]
  },
  {
   "cell_type": "code",
   "execution_count": 3,
   "metadata": {},
   "outputs": [
    {
     "data": {
      "text/plain": [
       "(79726, 10)"
      ]
     },
     "execution_count": 3,
     "metadata": {},
     "output_type": "execute_result"
    }
   ],
   "source": [
    "pred.shape"
   ]
  },
  {
   "cell_type": "code",
   "execution_count": 5,
   "metadata": {},
   "outputs": [
    {
     "data": {
      "text/plain": [
       "79726"
      ]
     },
     "execution_count": 5,
     "metadata": {},
     "output_type": "execute_result"
    }
   ],
   "source": [
    "test_dir = './test_data/data_test/test/'\n",
    "nb_test_samples = len(os.listdir(test_dir))\n",
    "nb_test_samples"
   ]
  },
  {
   "cell_type": "code",
   "execution_count": 9,
   "metadata": {},
   "outputs": [
    {
     "data": {
      "text/plain": [
       "['c0', 'c1', 'c2', 'c3', 'c4', 'c5', 'c6', 'c7', 'c8', 'c9']"
      ]
     },
     "execution_count": 9,
     "metadata": {},
     "output_type": "execute_result"
    }
   ],
   "source": [
    "columns = sorted(os.listdir('./imgs/val/'))\n",
    "columns"
   ]
  },
  {
   "cell_type": "code",
   "execution_count": 10,
   "metadata": {},
   "outputs": [
    {
     "data": {
      "text/html": [
       "<div>\n",
       "<style scoped>\n",
       "    .dataframe tbody tr th:only-of-type {\n",
       "        vertical-align: middle;\n",
       "    }\n",
       "\n",
       "    .dataframe tbody tr th {\n",
       "        vertical-align: top;\n",
       "    }\n",
       "\n",
       "    .dataframe thead th {\n",
       "        text-align: right;\n",
       "    }\n",
       "</style>\n",
       "<table border=\"1\" class=\"dataframe\">\n",
       "  <thead>\n",
       "    <tr style=\"text-align: right;\">\n",
       "      <th></th>\n",
       "      <th>c0</th>\n",
       "      <th>c1</th>\n",
       "      <th>c2</th>\n",
       "      <th>c3</th>\n",
       "      <th>c4</th>\n",
       "      <th>c5</th>\n",
       "      <th>c6</th>\n",
       "      <th>c7</th>\n",
       "      <th>c8</th>\n",
       "      <th>c9</th>\n",
       "    </tr>\n",
       "  </thead>\n",
       "  <tbody>\n",
       "    <tr>\n",
       "      <th>img_1.jpg</th>\n",
       "      <td>3.698721e-03</td>\n",
       "      <td>0.001122</td>\n",
       "      <td>0.000713</td>\n",
       "      <td>7.412435e-01</td>\n",
       "      <td>0.133981</td>\n",
       "      <td>3.184776e-02</td>\n",
       "      <td>6.197024e-02</td>\n",
       "      <td>0.002293</td>\n",
       "      <td>0.010311</td>\n",
       "      <td>0.012820</td>\n",
       "    </tr>\n",
       "    <tr>\n",
       "      <th>img_10.jpg</th>\n",
       "      <td>2.614045e-03</td>\n",
       "      <td>0.006695</td>\n",
       "      <td>0.010334</td>\n",
       "      <td>1.761643e-01</td>\n",
       "      <td>0.037083</td>\n",
       "      <td>2.247162e-02</td>\n",
       "      <td>5.805036e-01</td>\n",
       "      <td>0.096372</td>\n",
       "      <td>0.031876</td>\n",
       "      <td>0.035886</td>\n",
       "    </tr>\n",
       "    <tr>\n",
       "      <th>img_100.jpg</th>\n",
       "      <td>4.370850e-01</td>\n",
       "      <td>0.018214</td>\n",
       "      <td>0.002775</td>\n",
       "      <td>1.227519e-02</td>\n",
       "      <td>0.013766</td>\n",
       "      <td>5.268903e-02</td>\n",
       "      <td>2.021103e-03</td>\n",
       "      <td>0.010678</td>\n",
       "      <td>0.018972</td>\n",
       "      <td>0.431523</td>\n",
       "    </tr>\n",
       "    <tr>\n",
       "      <th>img_1000.jpg</th>\n",
       "      <td>1.340554e-02</td>\n",
       "      <td>0.001077</td>\n",
       "      <td>0.002299</td>\n",
       "      <td>1.292770e-02</td>\n",
       "      <td>0.112961</td>\n",
       "      <td>7.725791e-01</td>\n",
       "      <td>5.857459e-03</td>\n",
       "      <td>0.006377</td>\n",
       "      <td>0.007061</td>\n",
       "      <td>0.065455</td>\n",
       "    </tr>\n",
       "    <tr>\n",
       "      <th>img_100000.jpg</th>\n",
       "      <td>2.078793e-08</td>\n",
       "      <td>0.000004</td>\n",
       "      <td>0.873432</td>\n",
       "      <td>1.454742e-08</td>\n",
       "      <td>0.000001</td>\n",
       "      <td>3.554283e-07</td>\n",
       "      <td>1.108764e-01</td>\n",
       "      <td>0.000014</td>\n",
       "      <td>0.015671</td>\n",
       "      <td>0.000001</td>\n",
       "    </tr>\n",
       "    <tr>\n",
       "      <th>img_100001.jpg</th>\n",
       "      <td>1.531389e-04</td>\n",
       "      <td>0.000019</td>\n",
       "      <td>0.000004</td>\n",
       "      <td>3.681324e-05</td>\n",
       "      <td>0.000030</td>\n",
       "      <td>1.211993e-05</td>\n",
       "      <td>3.714679e-07</td>\n",
       "      <td>0.000423</td>\n",
       "      <td>0.244677</td>\n",
       "      <td>0.754645</td>\n",
       "    </tr>\n",
       "    <tr>\n",
       "      <th>img_100002.jpg</th>\n",
       "      <td>8.961304e-06</td>\n",
       "      <td>0.000015</td>\n",
       "      <td>0.000676</td>\n",
       "      <td>5.135347e-06</td>\n",
       "      <td>0.000383</td>\n",
       "      <td>3.227955e-05</td>\n",
       "      <td>9.962525e-01</td>\n",
       "      <td>0.000172</td>\n",
       "      <td>0.002372</td>\n",
       "      <td>0.000083</td>\n",
       "    </tr>\n",
       "    <tr>\n",
       "      <th>img_100003.jpg</th>\n",
       "      <td>1.284772e-04</td>\n",
       "      <td>0.011733</td>\n",
       "      <td>0.050480</td>\n",
       "      <td>6.352831e-05</td>\n",
       "      <td>0.000208</td>\n",
       "      <td>1.378902e-03</td>\n",
       "      <td>1.851177e-01</td>\n",
       "      <td>0.010409</td>\n",
       "      <td>0.736909</td>\n",
       "      <td>0.003573</td>\n",
       "    </tr>\n",
       "    <tr>\n",
       "      <th>img_100004.jpg</th>\n",
       "      <td>4.142604e-04</td>\n",
       "      <td>0.000425</td>\n",
       "      <td>0.884081</td>\n",
       "      <td>9.719280e-05</td>\n",
       "      <td>0.000126</td>\n",
       "      <td>1.808318e-04</td>\n",
       "      <td>3.623323e-03</td>\n",
       "      <td>0.008546</td>\n",
       "      <td>0.098614</td>\n",
       "      <td>0.003893</td>\n",
       "    </tr>\n",
       "    <tr>\n",
       "      <th>img_100005.jpg</th>\n",
       "      <td>7.250878e-04</td>\n",
       "      <td>0.001931</td>\n",
       "      <td>0.060191</td>\n",
       "      <td>9.950140e-04</td>\n",
       "      <td>0.008138</td>\n",
       "      <td>1.851067e-02</td>\n",
       "      <td>5.569692e-01</td>\n",
       "      <td>0.027774</td>\n",
       "      <td>0.308116</td>\n",
       "      <td>0.016650</td>\n",
       "    </tr>\n",
       "  </tbody>\n",
       "</table>\n",
       "</div>"
      ],
      "text/plain": [
       "                          c0        c1        c2            c3        c4  \\\n",
       "img_1.jpg       3.698721e-03  0.001122  0.000713  7.412435e-01  0.133981   \n",
       "img_10.jpg      2.614045e-03  0.006695  0.010334  1.761643e-01  0.037083   \n",
       "img_100.jpg     4.370850e-01  0.018214  0.002775  1.227519e-02  0.013766   \n",
       "img_1000.jpg    1.340554e-02  0.001077  0.002299  1.292770e-02  0.112961   \n",
       "img_100000.jpg  2.078793e-08  0.000004  0.873432  1.454742e-08  0.000001   \n",
       "img_100001.jpg  1.531389e-04  0.000019  0.000004  3.681324e-05  0.000030   \n",
       "img_100002.jpg  8.961304e-06  0.000015  0.000676  5.135347e-06  0.000383   \n",
       "img_100003.jpg  1.284772e-04  0.011733  0.050480  6.352831e-05  0.000208   \n",
       "img_100004.jpg  4.142604e-04  0.000425  0.884081  9.719280e-05  0.000126   \n",
       "img_100005.jpg  7.250878e-04  0.001931  0.060191  9.950140e-04  0.008138   \n",
       "\n",
       "                          c5            c6        c7        c8        c9  \n",
       "img_1.jpg       3.184776e-02  6.197024e-02  0.002293  0.010311  0.012820  \n",
       "img_10.jpg      2.247162e-02  5.805036e-01  0.096372  0.031876  0.035886  \n",
       "img_100.jpg     5.268903e-02  2.021103e-03  0.010678  0.018972  0.431523  \n",
       "img_1000.jpg    7.725791e-01  5.857459e-03  0.006377  0.007061  0.065455  \n",
       "img_100000.jpg  3.554283e-07  1.108764e-01  0.000014  0.015671  0.000001  \n",
       "img_100001.jpg  1.211993e-05  3.714679e-07  0.000423  0.244677  0.754645  \n",
       "img_100002.jpg  3.227955e-05  9.962525e-01  0.000172  0.002372  0.000083  \n",
       "img_100003.jpg  1.378902e-03  1.851177e-01  0.010409  0.736909  0.003573  \n",
       "img_100004.jpg  1.808318e-04  3.623323e-03  0.008546  0.098614  0.003893  \n",
       "img_100005.jpg  1.851067e-02  5.569692e-01  0.027774  0.308116  0.016650  "
      ]
     },
     "execution_count": 10,
     "metadata": {},
     "output_type": "execute_result"
    }
   ],
   "source": [
    "df = pd.DataFrame(data=pred,index=np.array(sorted(os.listdir(test_dir))),columns=np.array(columns))\n",
    "df.head(10)"
   ]
  },
  {
   "cell_type": "code",
   "execution_count": 11,
   "metadata": {},
   "outputs": [],
   "source": [
    "df.to_csv(path_or_buf='submission.csv',sep=',')"
   ]
  },
  {
   "cell_type": "code",
   "execution_count": null,
   "metadata": {},
   "outputs": [],
   "source": []
  }
 ],
 "metadata": {
  "kernelspec": {
   "display_name": "Python 3",
   "language": "python",
   "name": "python3"
  },
  "language_info": {
   "codemirror_mode": {
    "name": "ipython",
    "version": 3
   },
   "file_extension": ".py",
   "mimetype": "text/x-python",
   "name": "python",
   "nbconvert_exporter": "python",
   "pygments_lexer": "ipython3",
   "version": "3.6.2"
  }
 },
 "nbformat": 4,
 "nbformat_minor": 2
}
