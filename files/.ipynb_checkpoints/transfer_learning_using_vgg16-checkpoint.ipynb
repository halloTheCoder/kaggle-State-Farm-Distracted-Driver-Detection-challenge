{
 "cells": [
  {
   "cell_type": "code",
   "execution_count": 8,
   "metadata": {},
   "outputs": [],
   "source": [
    "%matplotlib inline\n",
    "import os\n",
    "import random\n",
    "import matplotlib.pyplot as plt\n",
    "import seaborn as sns\n",
    "import json\n",
    "import h5py\n",
    "import numpy as np\n",
    "\n",
    "from sklearn.metrics import classification_report,confusion_matrix\n",
    "\n",
    "from IPython.display import display,Image,clear_output"
   ]
  },
  {
   "cell_type": "code",
   "execution_count": 36,
   "metadata": {},
   "outputs": [],
   "source": [
    "import keras \n",
    "from keras.models import Sequential,Model,load_model,model_from_json\n",
    "from keras.layers import Dense,Flatten,Dropout,Activation\n",
    "from keras.layers import Conv2D,Conv2DTranspose\n",
    "from keras.layers.normalization import BatchNormalization\n",
    "from keras import losses,optimizers\n",
    "from keras.applications.vgg16 import VGG16,preprocess_input\n",
    "from keras.preprocessing.image import ImageDataGenerator,img_to_array,array_to_img,load_img\n",
    "from keras.callbacks import History,ModelCheckpoint,TensorBoard\n",
    "from keras.regularizers import l1,l2\n",
    "from keras.utils.np_utils import to_categorical"
   ]
  },
  {
   "cell_type": "code",
   "execution_count": 30,
   "metadata": {},
   "outputs": [],
   "source": [
    "location = './'\n",
    "train_data_dir = '../imgs/train'\n",
    "val_data_dir = '../imgs/val'\n",
    "\n",
    "top_model_wts_path = location+'top_model_wts.h5'\n",
    "ft_model_path = location+'ft_model.h5'\n",
    "\n",
    "img_h = 256\n",
    "img_w = 256\n",
    "\n",
    "train_samples = [len(os.listdir(os.path.join(train_data_dir,i))) for i in sorted(os.listdir(train_data_dir))]\n",
    "nb_train_samples = sum(train_samples)\n",
    "val_samples = [len(os.listdir(os.path.join(val_data_dir,i))) for i in sorted(os.listdir(val_data_dir))]\n",
    "nb_val_samples = sum(val_samples)\n",
    "\n",
    "nb_epochs = 50"
   ]
  },
  {
   "cell_type": "code",
   "execution_count": 11,
   "metadata": {},
   "outputs": [
    {
     "data": {
      "text/plain": [
       "['c0', 'c1', 'c2', 'c3', 'c4', 'c5', 'c6', 'c7', 'c8', 'c9']"
      ]
     },
     "execution_count": 11,
     "metadata": {},
     "output_type": "execute_result"
    }
   ],
   "source": [
    "sorted(os.listdir(train_data_dir))"
   ]
  },
  {
   "cell_type": "code",
   "execution_count": 12,
   "metadata": {},
   "outputs": [
    {
     "data": {
      "text/plain": [
       "[2241, 2041, 2086, 2112, 2094, 2081, 2093, 1802, 1720, 1917]"
      ]
     },
     "execution_count": 12,
     "metadata": {},
     "output_type": "execute_result"
    }
   ],
   "source": [
    "train_samples"
   ]
  },
  {
   "cell_type": "code",
   "execution_count": 13,
   "metadata": {},
   "outputs": [
    {
     "data": {
      "text/plain": [
       "[248, 226, 231, 234, 232, 231, 232, 200, 191, 212]"
      ]
     },
     "execution_count": 13,
     "metadata": {},
     "output_type": "execute_result"
    }
   ],
   "source": [
    "val_samples"
   ]
  },
  {
   "cell_type": "code",
   "execution_count": 14,
   "metadata": {},
   "outputs": [
    {
     "data": {
      "text/plain": [
       "(20187, 2237)"
      ]
     },
     "execution_count": 14,
     "metadata": {},
     "output_type": "execute_result"
    }
   ],
   "source": [
    "nb_train_samples,nb_val_samples"
   ]
  },
  {
   "cell_type": "code",
   "execution_count": 15,
   "metadata": {},
   "outputs": [
    {
     "data": {
      "text/plain": [
       "'channels_last'"
      ]
     },
     "execution_count": 15,
     "metadata": {},
     "output_type": "execute_result"
    }
   ],
   "source": [
    "import keras.backend as K\n",
    "if K.image_data_format() == 'channels_last':\n",
    "    input_shape = (img_h,img_w,3)\n",
    "else:\n",
    "    input_shape = (3,img_h,img_w)\n",
    "K.image_data_format()"
   ]
  },
  {
   "cell_type": "code",
   "execution_count": 16,
   "metadata": {},
   "outputs": [
    {
     "data": {
      "text/plain": [
       "(256, 256, 3)"
      ]
     },
     "execution_count": 16,
     "metadata": {},
     "output_type": "execute_result"
    }
   ],
   "source": [
    "input_shape"
   ]
  },
  {
   "cell_type": "code",
   "execution_count": 17,
   "metadata": {},
   "outputs": [
    {
     "name": "stdout",
     "output_type": "stream",
     "text": [
      "_________________________________________________________________\n",
      "Layer (type)                 Output Shape              Param #   \n",
      "=================================================================\n",
      "input_1 (InputLayer)         (None, 256, 256, 3)       0         \n",
      "_________________________________________________________________\n",
      "block1_conv1 (Conv2D)        (None, 256, 256, 64)      1792      \n",
      "_________________________________________________________________\n",
      "block1_conv2 (Conv2D)        (None, 256, 256, 64)      36928     \n",
      "_________________________________________________________________\n",
      "block1_pool (MaxPooling2D)   (None, 128, 128, 64)      0         \n",
      "_________________________________________________________________\n",
      "block2_conv1 (Conv2D)        (None, 128, 128, 128)     73856     \n",
      "_________________________________________________________________\n",
      "block2_conv2 (Conv2D)        (None, 128, 128, 128)     147584    \n",
      "_________________________________________________________________\n",
      "block2_pool (MaxPooling2D)   (None, 64, 64, 128)       0         \n",
      "_________________________________________________________________\n",
      "block3_conv1 (Conv2D)        (None, 64, 64, 256)       295168    \n",
      "_________________________________________________________________\n",
      "block3_conv2 (Conv2D)        (None, 64, 64, 256)       590080    \n",
      "_________________________________________________________________\n",
      "block3_conv3 (Conv2D)        (None, 64, 64, 256)       590080    \n",
      "_________________________________________________________________\n",
      "block3_pool (MaxPooling2D)   (None, 32, 32, 256)       0         \n",
      "_________________________________________________________________\n",
      "block4_conv1 (Conv2D)        (None, 32, 32, 512)       1180160   \n",
      "_________________________________________________________________\n",
      "block4_conv2 (Conv2D)        (None, 32, 32, 512)       2359808   \n",
      "_________________________________________________________________\n",
      "block4_conv3 (Conv2D)        (None, 32, 32, 512)       2359808   \n",
      "_________________________________________________________________\n",
      "block4_pool (MaxPooling2D)   (None, 16, 16, 512)       0         \n",
      "_________________________________________________________________\n",
      "block5_conv1 (Conv2D)        (None, 16, 16, 512)       2359808   \n",
      "_________________________________________________________________\n",
      "block5_conv2 (Conv2D)        (None, 16, 16, 512)       2359808   \n",
      "_________________________________________________________________\n",
      "block5_conv3 (Conv2D)        (None, 16, 16, 512)       2359808   \n",
      "_________________________________________________________________\n",
      "block5_pool (MaxPooling2D)   (None, 8, 8, 512)         0         \n",
      "=================================================================\n",
      "Total params: 14,714,688\n",
      "Trainable params: 14,714,688\n",
      "Non-trainable params: 0\n",
      "_________________________________________________________________\n"
     ]
    }
   ],
   "source": [
    "base_model = VGG16(include_top=False,weights='imagenet',input_shape=input_shape)\n",
    "base_model.summary()"
   ]
  },
  {
   "cell_type": "code",
   "execution_count": 18,
   "metadata": {},
   "outputs": [],
   "source": [
    "for layer in base_model.layers:\n",
    "    layer.trainable = False"
   ]
  },
  {
   "cell_type": "code",
   "execution_count": 19,
   "metadata": {},
   "outputs": [
    {
     "name": "stdout",
     "output_type": "stream",
     "text": [
      "_________________________________________________________________\n",
      "Layer (type)                 Output Shape              Param #   \n",
      "=================================================================\n",
      "input_1 (InputLayer)         (None, 256, 256, 3)       0         \n",
      "_________________________________________________________________\n",
      "block1_conv1 (Conv2D)        (None, 256, 256, 64)      1792      \n",
      "_________________________________________________________________\n",
      "block1_conv2 (Conv2D)        (None, 256, 256, 64)      36928     \n",
      "_________________________________________________________________\n",
      "block1_pool (MaxPooling2D)   (None, 128, 128, 64)      0         \n",
      "_________________________________________________________________\n",
      "block2_conv1 (Conv2D)        (None, 128, 128, 128)     73856     \n",
      "_________________________________________________________________\n",
      "block2_conv2 (Conv2D)        (None, 128, 128, 128)     147584    \n",
      "_________________________________________________________________\n",
      "block2_pool (MaxPooling2D)   (None, 64, 64, 128)       0         \n",
      "_________________________________________________________________\n",
      "block3_conv1 (Conv2D)        (None, 64, 64, 256)       295168    \n",
      "_________________________________________________________________\n",
      "block3_conv2 (Conv2D)        (None, 64, 64, 256)       590080    \n",
      "_________________________________________________________________\n",
      "block3_conv3 (Conv2D)        (None, 64, 64, 256)       590080    \n",
      "_________________________________________________________________\n",
      "block3_pool (MaxPooling2D)   (None, 32, 32, 256)       0         \n",
      "_________________________________________________________________\n",
      "block4_conv1 (Conv2D)        (None, 32, 32, 512)       1180160   \n",
      "_________________________________________________________________\n",
      "block4_conv2 (Conv2D)        (None, 32, 32, 512)       2359808   \n",
      "_________________________________________________________________\n",
      "block4_conv3 (Conv2D)        (None, 32, 32, 512)       2359808   \n",
      "_________________________________________________________________\n",
      "block4_pool (MaxPooling2D)   (None, 16, 16, 512)       0         \n",
      "_________________________________________________________________\n",
      "block5_conv1 (Conv2D)        (None, 16, 16, 512)       2359808   \n",
      "_________________________________________________________________\n",
      "block5_conv2 (Conv2D)        (None, 16, 16, 512)       2359808   \n",
      "_________________________________________________________________\n",
      "block5_conv3 (Conv2D)        (None, 16, 16, 512)       2359808   \n",
      "_________________________________________________________________\n",
      "block5_pool (MaxPooling2D)   (None, 8, 8, 512)         0         \n",
      "=================================================================\n",
      "Total params: 14,714,688\n",
      "Trainable params: 0\n",
      "Non-trainable params: 14,714,688\n",
      "_________________________________________________________________\n"
     ]
    }
   ],
   "source": [
    "base_model.summary()"
   ]
  },
  {
   "cell_type": "code",
   "execution_count": 20,
   "metadata": {},
   "outputs": [],
   "source": [
    "def preprocess_input_vgg(x):\n",
    "    x = np.expand_dims(x,axis=0)\n",
    "    x = preprocess_input(x)\n",
    "    return x[0]"
   ]
  },
  {
   "cell_type": "code",
   "execution_count": 21,
   "metadata": {},
   "outputs": [],
   "source": [
    "def save_bottleneck_features(location):\n",
    "    bottleneck_features_train_loc = location+'bottleneck_train_features.npy'\n",
    "    bottleneck_features_test_loc = location+'bottleneck_test_features.npy'\n",
    "    \n",
    "    datagen = ImageDataGenerator(preprocessing_function=preprocess_input_vgg)\n",
    "    \n",
    "    if not os.path.exists(bottleneck_features_train_loc):\n",
    "        train_generator = datagen.flow_from_directory(train_data_dir,\n",
    "                                                    target_size=(256,256),\n",
    "                                                    batch_size=32,\n",
    "                                                    class_mode=None,\n",
    "                                                    shuffle=False\n",
    "                                                    )\n",
    "        bottleneck_features_train = base_model.predict_generator(train_generator,\n",
    "                                                                 steps=nb_train_samples/32,\n",
    "                                                                 verbose=1)\n",
    "        np.save(open(bottleneck_features_train_loc,'wb'),bottleneck_features_train)\n",
    "        \n",
    "    if not os.path.exists(bottleneck_features_test_loc):\n",
    "        test_generator = datagen.flow_from_directory(test_data_dir,\n",
    "                                                     target_size=(256,256),\n",
    "                                                     batch_size=16,\n",
    "                                                     class_mode=None,\n",
    "                                                     shuffle=False)\n",
    "        bottleneck_features_test = base_model.predict_generator(test_generator,\n",
    "                                                                steps=nb_val_samples/16,\n",
    "                                                                verbose=1)\n",
    "        np.save(open(bottleneck_features_test_loc,'wb'),bottleneck_features_test)"
   ]
  },
  {
   "cell_type": "code",
   "execution_count": 22,
   "metadata": {},
   "outputs": [
    {
     "data": {
      "text/plain": [
       "array([0, 0, 0, ..., 9, 9, 9])"
      ]
     },
     "execution_count": 22,
     "metadata": {},
     "output_type": "execute_result"
    }
   ],
   "source": [
    "train_labels = []\n",
    "for i in range(len(train_samples)):\n",
    "    train_labels += [i]*train_samples[i]\n",
    "train_labels = np.array(train_labels)\n",
    "train_labels"
   ]
  },
  {
   "cell_type": "code",
   "execution_count": 23,
   "metadata": {},
   "outputs": [],
   "source": [
    "def train_categorical_model(location):\n",
    "    bottleneck_features_train_loc = location+'bottleneck_train_features.npy'\n",
    "    bottleneck_features_test_loc = location+'bottleneck_test_features.npy'\n",
    "    \n",
    "    bottleneck_features_train = np.load(open(bottleneck_features_train_loc,'rb'))\n",
    "    train_labels = []\n",
    "    for i in range(len(train_samples)):\n",
    "        train_labels += [i]*train_samples[i]\n",
    "    train_labels = np.array(train_labels)\n",
    "    train_labels = to_categorical(train_labels)\n",
    "    \n",
    "    bottleneck_features_test = np.load(open(bottleneck_features_test_loc,'rb'))\n",
    "    test_labels = []\n",
    "    for i in range(len(val_samples)):\n",
    "        test_labels += [i]*val_samples[i]\n",
    "    test_labels = np.array(test_labels)\n",
    "    test_labels = to_categorical(test_labels)\n",
    "    \n",
    "    top_model = Sequential()\n",
    "    top_model.add(Dense(units=256,activation='relu',use_bias=True,kernel_regularizer=l1(l=0.01)))             # (512,8,8)\n",
    "    top_model.add(Dropout(0.1))\n",
    "    top_model.add(Dense(units=256,activation='relu',use_bias=True,kernel_regularizer=l2(l=0.01)))\n",
    "    top_model.add(Dropout(0.1))\n",
    "    top_model.add(Dense(units=10,activation='softmax',use_bias=True))\n",
    "    \n",
    "    top_model.compile(optimizer=optimizers.SGD(lr=0.0001,momentum=0.9),\n",
    "                      loss=losses.categorical_crossentropy,\n",
    "                      metrics=['accuracy'])\n",
    "    \n",
    "    checkpoint = ModelCheckpoint(top_model_wts_path,\n",
    "                                 monitor='val_acc',\n",
    "                                 verbsoe=1,\n",
    "                                 save_best_only=True,\n",
    "                                 save_weights_only=True,mode='auto')\n",
    "    \n",
    "    fit = top_model.fit(x=bottleneck_features_train,\n",
    "                        y=train_labels,\n",
    "                        batch_size=32,\n",
    "                        epochs=nb_epochs,\n",
    "                        callbacks=[checkpoint],\n",
    "                        validation_data=(bottleneck_features_test,test_labels)\n",
    "                       )\n",
    "    with open(location+'best_model_history.json','w') as f:\n",
    "        json.dump(fit.history,f)\n",
    "    \n",
    "    return top_model,fit.history"
   ]
  },
  {
   "cell_type": "code",
   "execution_count": 24,
   "metadata": {},
   "outputs": [
    {
     "data": {
      "text/plain": [
       "array([[ 1.,  0.,  0., ...,  0.,  0.,  0.],\n",
       "       [ 1.,  0.,  0., ...,  0.,  0.,  0.],\n",
       "       [ 1.,  0.,  0., ...,  0.,  0.,  0.],\n",
       "       ..., \n",
       "       [ 0.,  0.,  0., ...,  0.,  0.,  1.],\n",
       "       [ 0.,  0.,  0., ...,  0.,  0.,  1.],\n",
       "       [ 0.,  0.,  0., ...,  0.,  0.,  1.]])"
      ]
     },
     "execution_count": 24,
     "metadata": {},
     "output_type": "execute_result"
    }
   ],
   "source": [
    "train_labels = []\n",
    "for i in range(len(train_samples)):\n",
    "    train_labels += [i]*train_samples[i]\n",
    "train_labels = np.array(train_labels)\n",
    "train_labels = to_categorical(train_labels)\n",
    "train_labels"
   ]
  },
  {
   "cell_type": "code",
   "execution_count": 25,
   "metadata": {},
   "outputs": [],
   "source": [
    "def finetune_categorical_model(location):\n",
    "    for i in range(len(train_samples)):\n",
    "        train_labels += [i]*train_samples[i]\n",
    "    train_labels = np.array(train_labels)\n",
    "    train_labels = to_categorical(train_labels)\n",
    "    \n",
    "    bottleneck_features_test = np.load(open(bottleneck_features_test_loc,'rb'))\n",
    "    test_labels = []\n",
    "    for i in range(len(val_samples)):\n",
    "        test_labels += [i]*val_samples[i]\n",
    "    test_labels = np.array(test_labels)\n",
    "    test_labels = to_categorical(test_labels)\n",
    "    \n",
    "    top_model = Sequential()\n",
    "    top_model.add(Dense(units=256,activation='relu',use_bias=True,kernel_regularizer=l1(l=0.01)))             # (512,8,8)\n",
    "    top_model.add(Dropout(0.1))\n",
    "    top_model.add(Dense(units=256,activation='relu',use_bias=True,kernel_regularizer=l2(l=0.01)))\n",
    "    top_model.add(Dropout(0.1))\n",
    "    top_model.add(Dense(units=10,activation='softmax',use_bias=True))\n",
    "    \n",
    "    top_model.load_weights(top_model_wts_path)\n",
    "    \n",
    "    model = Model(inputs=base_model.input,outputs=top_model(base_model.output))\n",
    "    \n",
    "    train_datagen = ImageDataGenerator(preprocessing_function=preprocess_input_vgg)\n",
    "    train_generator =  train_datagen.flow_from_directory(train_data_dir,\n",
    "                                                         target_size=(256,256),\n",
    "                                                         class_mode='categorical',\n",
    "                                                         batch_size=32,\n",
    "                                                         shuffle=True)\n",
    "    \n",
    "    \n",
    "    test_datgen = ImageDataGenerator(preprocessing_function=preprocess_input_vgg)\n",
    "    test_generator = test_datgen.flow_from_directory(val_data_dir,\n",
    "                                                     target_size=(256,256),\n",
    "                                                     class_mode='categorical',\n",
    "                                                     batch_size=16,\n",
    "                                                     shuffle=False)\n",
    "    checkpoint = ModelCheckpoint(ft_model_wts_path,\n",
    "                                 monitor='val_acc',\n",
    "                                 verbose=1,\n",
    "                                 save_best_only=True,\n",
    "                                 save_weights_only=False,\n",
    "                                 mode='auto')\n",
    "    fit = model.fit_generator(train_generator,\n",
    "                        steps_per_epoch=nb_train_samples/32,\n",
    "                        epochs=nb_epochs,\n",
    "                        validation_data=(test_generator),\n",
    "                        validation_steps=nb_val_samples/16,\n",
    "                        callbacks=[checkpoint])\n",
    "    \n",
    "    with open(location+'ft_history.json','w') as f:\n",
    "        json.dump(fit.history,f)\n",
    "    \n",
    "    return model,fit.history"
   ]
  },
  {
   "cell_type": "code",
   "execution_count": 26,
   "metadata": {},
   "outputs": [],
   "source": [
    "def plot_metrics(hist, stop=50):  # stop -> no of data pts in plot\n",
    "                                # hist(history) -> dict\n",
    "    fig, (ax0, ax1) = plt.subplots(nrows=1, ncols=2, figsize=(10, 4))\n",
    "    # axes = axes.flatten()   # flatten -> numpy flatten\n",
    "\n",
    "    ax0.plot(range(stop), hist['acc'], label='Training', color='#FF533D')\n",
    "    ax0.plot(range(stop), hist['val_acc'], label='Validation', color='#03507E')\n",
    "    ax0.set_title('Accuracy')\n",
    "    ax0.set_ylabel('Accuracy')\n",
    "    ax0.set_xlabel('Epoch')\n",
    "    ax0.legend(loc='lower right')\n",
    "\n",
    "    ax1.plot(range(stop), hist['loss'], label='Training', color='#FF533D')\n",
    "    ax1.plot(range(stop), hist['val_loss'],label='Validation', color='#03507E')\n",
    "    ax1.set_title('Loss')\n",
    "    ax1.set_ylabel('Loss')\n",
    "    ax1.set_xlabel('Epoch')\n",
    "    ax1.legend(loc='upper right')\n",
    "\n",
    "    plt.tight_layout()\n",
    "\n",
    "    print(\"Best Model: \")\n",
    "    print_best_model_results(hist)"
   ]
  },
  {
   "cell_type": "code",
   "execution_count": 27,
   "metadata": {},
   "outputs": [],
   "source": [
    "def print_best_model_results(model_hist):\n",
    "    best_epoch = np.argmax(model_hist['val_acc'])\n",
    "    print('epoch:', best_epoch+1,', val_acc:', model_hist['val_acc'][best_epoch],', val_loss:', \n",
    "          model_hist['val_loss'][best_epoch])"
   ]
  },
  {
   "cell_type": "code",
   "execution_count": 28,
   "metadata": {},
   "outputs": [],
   "source": [
    "def view_image(image_dir,image_list):\n",
    "    while True:\n",
    "        clear_output()\n",
    "        x = random.sample(image_list,1)\n",
    "        print(x)\n",
    "        display(Image(image_dir+x[0],width=img_w,height=img_h))\n",
    "        num = input(\"c to continue, q to quit\")\n",
    "        if num == 'c':\n",
    "            pass\n",
    "        else:\n",
    "            print('Finished for now!!!')\n",
    "            break"
   ]
  },
  {
   "cell_type": "code",
   "execution_count": 29,
   "metadata": {},
   "outputs": [],
   "source": [
    "def evaluate_categorical_model(model,directory,labels):\n",
    "    datagen = ImageDataGenerator(preprocessing_function=preprocess_input_vgg)\n",
    "    test_generator = datagen.flow_from_directory(val_data_dir,\n",
    "                                               target_size=(256,256),\n",
    "                                               batch_size=16,\n",
    "                                               class_mode='categorical',\n",
    "                                               shuffle=False)\n",
    "    \n",
    "    predictions = model.predict_generator(test_generator,\n",
    "                                          steps=nb_val_samples/16,\n",
    "                                          verbose=1)\n",
    "    \n",
    "    pred_labels = np.argmax(predictions,axis=1)\n",
    "    \n",
    "    print()\n",
    "    print(classification_report(labels, pred_labels))\n",
    "    print()\n",
    "    cm = confusion_matrix(labels, pred_labels)\n",
    "#     sns.heatmap(cm, annot=True, fmt='g');\n",
    "    return cm"
   ]
  },
  {
   "cell_type": "code",
   "execution_count": 42,
   "metadata": {},
   "outputs": [
    {
     "name": "stdout",
     "output_type": "stream",
     "text": [
      "['img_29340.jpg']\n"
     ]
    },
    {
     "data": {
      "image/jpeg": "[encoded data removed]",
      "text/plain": [
       "<IPython.core.display.Image object>"
      ]
     },
     "metadata": {
      "image/jpeg": {
       "height": 256,
       "width": 256
      }
     },
     "output_type": "display_data"
    },
    {
     "name": "stdout",
     "output_type": "stream",
     "text": [
      "Finished for now!!!\n"
     ]
    }
   ],
   "source": [
    "view_image(val_data_dir+'/c0/',os.listdir(val_data_dir+'/c0/'))"
   ]
  },
  {
   "cell_type": "markdown",
   "metadata": {},
   "source": [
    "## TRAINING"
   ]
  },
  {
   "cell_type": "code",
   "execution_count": null,
   "metadata": {},
   "outputs": [],
   "source": [
    "save_bottleneck_features(location)"
   ]
  },
  {
   "cell_type": "code",
   "execution_count": null,
   "metadata": {},
   "outputs": [],
   "source": [
    "top_model,top_model_history = train_categorical_model(location)"
   ]
  },
  {
   "cell_type": "code",
   "execution_count": null,
   "metadata": {},
   "outputs": [],
   "source": [
    "plot_metrics(top_model_history)"
   ]
  },
  {
   "cell_type": "code",
   "execution_count": null,
   "metadata": {},
   "outputs": [],
   "source": [
    "ft_model,ft_model_history = finetune_categorical_model(location)"
   ]
  },
  {
   "cell_type": "code",
   "execution_count": null,
   "metadata": {},
   "outputs": [],
   "source": [
    "plot_metrics(ft_model_history)"
   ]
  },
  {
   "cell_type": "code",
   "execution_count": 47,
   "metadata": {},
   "outputs": [
    {
     "data": {
      "text/plain": [
       "array([0, 0, 0, ..., 9, 9, 9])"
      ]
     },
     "execution_count": 47,
     "metadata": {},
     "output_type": "execute_result"
    }
   ],
   "source": [
    "test_labels = []\n",
    "for i in range(len(val_samples)):\n",
    "    test_labels += [i]*val_samples[i]\n",
    "test_labels = np.array(test_labels)\n",
    "test_labels"
   ]
  },
  {
   "cell_type": "code",
   "execution_count": null,
   "metadata": {},
   "outputs": [],
   "source": [
    "cm = evaluate_categorical_model(ft_model, val_data_dir, test_labels)"
   ]
  },
  {
   "cell_type": "code",
   "execution_count": 48,
   "metadata": {},
   "outputs": [],
   "source": [
    "heatmap_labels = ['c0', 'c1', 'c2','c3','c4','c5','c6','c7','c8','c9']"
   ]
  },
  {
   "cell_type": "code",
   "execution_count": null,
   "metadata": {},
   "outputs": [],
   "source": [
    "sns.heatmap(cm, annot=True, annot_kws={\"size\": 14},\n",
    "            fmt='g', cmap='OrRd', xticklabels=heatmap_labels, yticklabels=heatmap_labels);"
   ]
  },
  {
   "cell_type": "code",
   "execution_count": 32,
   "metadata": {},
   "outputs": [],
   "source": [
    "ft_model = load_model(ft_model_path)\n",
    "ft_model_history = json.load(open('ft_history.json','r'))"
   ]
  },
  {
   "cell_type": "code",
   "execution_count": 33,
   "metadata": {},
   "outputs": [
    {
     "name": "stdout",
     "output_type": "stream",
     "text": [
      "Best Model: \n",
      "epoch: 3 , val_acc: 0.9861421547247248 , val_loss: 1.4600147535399128\n"
     ]
    },
    {
     "data": {
      "image/png": "[encoded data removed]",
      "text/plain": [
       "<matplotlib.figure.Figure at 0x7f7431dd8a58>"
      ]
     },
     "metadata": {},
     "output_type": "display_data"
    }
   ],
   "source": [
    "plot_metrics(ft_model_history,5)"
   ]
  },
  {
   "cell_type": "code",
   "execution_count": 35,
   "metadata": {},
   "outputs": [],
   "source": [
    "with open('ft_model_json.json','w') as f:\n",
    "    json.dump(ft_model.to_json(),f)\n",
    "ft_model.save_weights('ft_model_wts.h5')"
   ]
  },
  {
   "cell_type": "code",
   "execution_count": 37,
   "metadata": {},
   "outputs": [],
   "source": [
    "with open('ft_model_json.json','r') as f:\n",
    "    ft_model_json = json.load(f)\n",
    "ft_model = model_from_json(ft_model_json)\n",
    "ft_model.load_weights('ft_model_wts.h5')"
   ]
  },
  {
   "cell_type": "code",
   "execution_count": 43,
   "metadata": {},
   "outputs": [
    {
     "data": {
      "text/plain": [
       "79726"
      ]
     },
     "execution_count": 43,
     "metadata": {},
     "output_type": "execute_result"
    }
   ],
   "source": [
    "test_dir = '../test_data/'\n",
    "nb_test_samples = len(os.listdir(test_dir+'test'))\n",
    "nb_test_samples"
   ]
  },
  {
   "cell_type": "code",
   "execution_count": 44,
   "metadata": {},
   "outputs": [],
   "source": [
    "def predict_from_test(model,test_dir):\n",
    "    test_datagen = ImageDataGenerator(preprocessing_function=preprocess_input_vgg)\n",
    "    test_generator = test_datagen.flow_from_directory(test_dir,\n",
    "                                     target_size=(256,256),\n",
    "                                     class_mode=None,\n",
    "                                     shuffle=False,\n",
    "                                     batch_size=32)\n",
    "    predictions = model.predict_generator(test_generator,\n",
    "                               steps=nb_test_samples/32,\n",
    "                               verbose=1)\n",
    "    return predictions"
   ]
  },
  {
   "cell_type": "code",
   "execution_count": 45,
   "metadata": {},
   "outputs": [
    {
     "name": "stdout",
     "output_type": "stream",
     "text": [
      "Found 79726 images belonging to 1 classes.\n"
     ]
    },
    {
     "name": "stderr",
     "output_type": "stream",
     "text": [
      "Exception in thread Thread-27:\n",
      "Traceback (most recent call last):\n",
      "  File \"/home/akash/anaconda3/lib/python3.6/threading.py\", line 916, in _bootstrap_inner\n",
      "    self.run()\n",
      "  File \"/home/akash/anaconda3/lib/python3.6/threading.py\", line 864, in run\n",
      "    self._target(*self._args, **self._kwargs)\n",
      "  File \"/home/akash/anaconda3/lib/python3.6/site-packages/keras/utils/data_utils.py\", line 579, in data_generator_task\n",
      "    generator_output = next(self._generator)\n",
      "TypeError: 'ImageDataGenerator' object is not an iterator\n",
      "\n"
     ]
    },
    {
     "ename": "StopIteration",
     "evalue": "",
     "output_type": "error",
     "traceback": [
      "\u001b[0;31m---------------------------------------------------------------------------\u001b[0m",
      "\u001b[0;31mStopIteration\u001b[0m                             Traceback (most recent call last)",
      "\u001b[0;32m<ipython-input-45-7154f11776a2>\u001b[0m in \u001b[0;36m<module>\u001b[0;34m()\u001b[0m\n\u001b[0;32m----> 1\u001b[0;31m \u001b[0mpredict_from_test\u001b[0m\u001b[0;34m(\u001b[0m\u001b[0mft_model\u001b[0m\u001b[0;34m,\u001b[0m\u001b[0mtest_dir\u001b[0m\u001b[0;34m)\u001b[0m\u001b[0;34m\u001b[0m\u001b[0m\n\u001b[0m",
      "\u001b[0;32m<ipython-input-44-b18463b52a5d>\u001b[0m in \u001b[0;36mpredict_from_test\u001b[0;34m(model, test_dir)\u001b[0m\n\u001b[1;32m      8\u001b[0m     predictions = model.predict_generator(test_datagen,\n\u001b[1;32m      9\u001b[0m                                \u001b[0msteps\u001b[0m\u001b[0;34m=\u001b[0m\u001b[0mnb_test_samples\u001b[0m\u001b[0;34m/\u001b[0m\u001b[0;36m32\u001b[0m\u001b[0;34m,\u001b[0m\u001b[0;34m\u001b[0m\u001b[0m\n\u001b[0;32m---> 10\u001b[0;31m                                verbose=1)\n\u001b[0m\u001b[1;32m     11\u001b[0m     \u001b[0;32mreturn\u001b[0m \u001b[0mpredictions\u001b[0m\u001b[0;34m\u001b[0m\u001b[0m\n",
      "\u001b[0;32m~/anaconda3/lib/python3.6/site-packages/keras/legacy/interfaces.py\u001b[0m in \u001b[0;36mwrapper\u001b[0;34m(*args, **kwargs)\u001b[0m\n\u001b[1;32m     85\u001b[0m                 warnings.warn('Update your `' + object_name +\n\u001b[1;32m     86\u001b[0m                               '` call to the Keras 2 API: ' + signature, stacklevel=2)\n\u001b[0;32m---> 87\u001b[0;31m             \u001b[0;32mreturn\u001b[0m \u001b[0mfunc\u001b[0m\u001b[0;34m(\u001b[0m\u001b[0;34m*\u001b[0m\u001b[0margs\u001b[0m\u001b[0;34m,\u001b[0m \u001b[0;34m**\u001b[0m\u001b[0mkwargs\u001b[0m\u001b[0;34m)\u001b[0m\u001b[0;34m\u001b[0m\u001b[0m\n\u001b[0m\u001b[1;32m     88\u001b[0m         \u001b[0mwrapper\u001b[0m\u001b[0;34m.\u001b[0m\u001b[0m_original_function\u001b[0m \u001b[0;34m=\u001b[0m \u001b[0mfunc\u001b[0m\u001b[0;34m\u001b[0m\u001b[0m\n\u001b[1;32m     89\u001b[0m         \u001b[0;32mreturn\u001b[0m \u001b[0mwrapper\u001b[0m\u001b[0;34m\u001b[0m\u001b[0m\n",
      "\u001b[0;32m~/anaconda3/lib/python3.6/site-packages/keras/engine/training.py\u001b[0m in \u001b[0;36mpredict_generator\u001b[0;34m(self, generator, steps, max_queue_size, workers, use_multiprocessing, verbose)\u001b[0m\n\u001b[1;32m   2305\u001b[0m \u001b[0;34m\u001b[0m\u001b[0m\n\u001b[1;32m   2306\u001b[0m             \u001b[0;32mwhile\u001b[0m \u001b[0msteps_done\u001b[0m \u001b[0;34m<\u001b[0m \u001b[0msteps\u001b[0m\u001b[0;34m:\u001b[0m\u001b[0;34m\u001b[0m\u001b[0m\n\u001b[0;32m-> 2307\u001b[0;31m                 \u001b[0mgenerator_output\u001b[0m \u001b[0;34m=\u001b[0m \u001b[0mnext\u001b[0m\u001b[0;34m(\u001b[0m\u001b[0moutput_generator\u001b[0m\u001b[0;34m)\u001b[0m\u001b[0;34m\u001b[0m\u001b[0m\n\u001b[0m\u001b[1;32m   2308\u001b[0m                 \u001b[0;32mif\u001b[0m \u001b[0misinstance\u001b[0m\u001b[0;34m(\u001b[0m\u001b[0mgenerator_output\u001b[0m\u001b[0;34m,\u001b[0m \u001b[0mtuple\u001b[0m\u001b[0;34m)\u001b[0m\u001b[0;34m:\u001b[0m\u001b[0;34m\u001b[0m\u001b[0m\n\u001b[1;32m   2309\u001b[0m                     \u001b[0;31m# Compatibility with the generators\u001b[0m\u001b[0;34m\u001b[0m\u001b[0;34m\u001b[0m\u001b[0m\n",
      "\u001b[0;31mStopIteration\u001b[0m: "
     ]
    }
   ],
   "source": [
    "predict_from_test(ft_model,test_dir)"
   ]
  },
  {
   "cell_type": "code",
   "execution_count": null,
   "metadata": {},
   "outputs": [],
   "source": []
  }
 ],
 "metadata": {
  "kernelspec": {
   "display_name": "Python 3",
   "language": "python",
   "name": "python3"
  },
  "language_info": {
   "codemirror_mode": {
    "name": "ipython",
    "version": 3
   },
   "file_extension": ".py",
   "mimetype": "text/x-python",
   "name": "python",
   "nbconvert_exporter": "python",
   "pygments_lexer": "ipython3",
   "version": "3.6.2"
  }
 },
 "nbformat": 4,
 "nbformat_minor": 2
}
